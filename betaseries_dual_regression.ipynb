{
 "cells": [
  {
   "cell_type": "markdown",
   "metadata": {},
   "source": [
    "# dual regression\n",
    "this notebook covers running melodic and dual regression in order to see if there are any differences between conditions (congruent and incongruent)."
   ]
  },
  {
   "cell_type": "code",
   "execution_count": 67,
   "metadata": {
    "collapsed": true
   },
   "outputs": [],
   "source": [
    "from nipype.interfaces.fsl.model import DualRegression, MELODIC, MultipleRegressDesign\n",
    "from nipype import SelectFiles, Node, Workflow\n",
    "import os\n",
    "import re"
   ]
  },
  {
   "cell_type": "code",
   "execution_count": 37,
   "metadata": {},
   "outputs": [
    {
     "name": "stdout",
     "output_type": "stream",
     "text": [
      "171227-22:45:48,784 workflow INFO:\n",
      "\t Executing node selectfiles in dir: /tmp/tmpqi65hlpx/selectfiles\n",
      "171227-22:45:48,787 workflow INFO:\n",
      "\t Running node \"selectfiles\" (\"nipype.interfaces.io.SelectFiles\").\n"
     ]
    }
   ],
   "source": [
    "# get inputs\n",
    "templates = {'betaseries': 'sub-*/func/sub-*_trialtype-*congruent_zscore.nii.gz'}\n",
    "\n",
    "# make a node\n",
    "sf = Node(SelectFiles(templates),\n",
    "          name='selectfiles')\n",
    "\n",
    "# set to the top level directory where the data live\n",
    "sf.inputs.base_directory = os.path.abspath('../')\n",
    "\n",
    "# assign the output\n",
    "betaseries = sf.run().outputs.betaseries\n",
    "\n",
    "# get the mask:\n",
    "mask = os.path.abspath('../group/group_bold_brainmask.nii.gz')"
   ]
  },
  {
   "cell_type": "code",
   "execution_count": 55,
   "metadata": {
    "collapsed": true
   },
   "outputs": [],
   "source": [
    "import nibabel as nib\n",
    "arr = {}\n",
    "# only use the nifti's where the participants were 100% correct\n",
    "for fil in betaseries:\n",
    "    arr.setdefault(nib.load(fil).shape[3], []).append(fil)\n",
    "    \n",
    "    "
   ]
  },
  {
   "cell_type": "code",
   "execution_count": 88,
   "metadata": {},
   "outputs": [
    {
     "data": {
      "text/plain": [
       "'/media/Data/Documents/devel/nibetaseries_analysis/group/group_bold_brainmask.nii.gz'"
      ]
     },
     "execution_count": 88,
     "metadata": {},
     "output_type": "execute_result"
    }
   ],
   "source": [
    "mask\n"
   ]
  },
  {
   "cell_type": "code",
   "execution_count": 63,
   "metadata": {},
   "outputs": [
    {
     "name": "stdout",
     "output_type": "stream",
     "text": [
      "171227-23:36:26,757 workflow INFO:\n",
      "\t Executing node melodic in dir: /tmp/tmp3283g8gi/melodic\n",
      "171227-23:36:26,779 workflow INFO:\n",
      "\t Running node \"melodic\" (\"nipype.interfaces.fsl.model.MELODIC\"), a CommandLine Interface with command:\n",
      "melodic -i /media/Data/Documents/devel/nibetaseries_analysis/sub-01/func/sub-01_trialtype-congruent_zscore.nii.gz,/media/Data/Documents/devel/nibetaseries_analysis/sub-01/func/sub-01_trialtype-incongruent_zscore.nii.gz,/media/Data/Documents/devel/nibetaseries_analysis/sub-02/func/sub-02_trialtype-congruent_zscore.nii.gz,/media/Data/Documents/devel/nibetaseries_analysis/sub-02/func/sub-02_trialtype-incongruent_zscore.nii.gz,/media/Data/Documents/devel/nibetaseries_analysis/sub-03/func/sub-03_trialtype-congruent_zscore.nii.gz,/media/Data/Documents/devel/nibetaseries_analysis/sub-03/func/sub-03_trialtype-incongruent_zscore.nii.gz,/media/Data/Documents/devel/nibetaseries_analysis/sub-04/func/sub-04_trialtype-congruent_zscore.nii.gz,/media/Data/Documents/devel/nibetaseries_analysis/sub-04/func/sub-04_trialtype-incongruent_zscore.nii.gz,/media/Data/Documents/devel/nibetaseries_analysis/sub-05/func/sub-05_trialtype-congruent_zscore.nii.gz,/media/Data/Documents/devel/nibetaseries_analysis/sub-05/func/sub-05_trialtype-incongruent_zscore.nii.gz,/media/Data/Documents/devel/nibetaseries_analysis/sub-06/func/sub-06_trialtype-congruent_zscore.nii.gz,/media/Data/Documents/devel/nibetaseries_analysis/sub-06/func/sub-06_trialtype-incongruent_zscore.nii.gz,/media/Data/Documents/devel/nibetaseries_analysis/sub-07/func/sub-07_trialtype-congruent_zscore.nii.gz,/media/Data/Documents/devel/nibetaseries_analysis/sub-07/func/sub-07_trialtype-incongruent_zscore.nii.gz,/media/Data/Documents/devel/nibetaseries_analysis/sub-08/func/sub-08_trialtype-congruent_zscore.nii.gz,/media/Data/Documents/devel/nibetaseries_analysis/sub-08/func/sub-08_trialtype-incongruent_zscore.nii.gz,/media/Data/Documents/devel/nibetaseries_analysis/sub-09/func/sub-09_trialtype-congruent_zscore.nii.gz,/media/Data/Documents/devel/nibetaseries_analysis/sub-09/func/sub-09_trialtype-incongruent_zscore.nii.gz,/media/Data/Documents/devel/nibetaseries_analysis/sub-10/func/sub-10_trialtype-congruent_zscore.nii.gz,/media/Data/Documents/devel/nibetaseries_analysis/sub-10/func/sub-10_trialtype-incongruent_zscore.nii.gz,/media/Data/Documents/devel/nibetaseries_analysis/sub-11/func/sub-11_trialtype-congruent_zscore.nii.gz,/media/Data/Documents/devel/nibetaseries_analysis/sub-12/func/sub-12_trialtype-congruent_zscore.nii.gz,/media/Data/Documents/devel/nibetaseries_analysis/sub-12/func/sub-12_trialtype-incongruent_zscore.nii.gz,/media/Data/Documents/devel/nibetaseries_analysis/sub-13/func/sub-13_trialtype-congruent_zscore.nii.gz,/media/Data/Documents/devel/nibetaseries_analysis/sub-13/func/sub-13_trialtype-incongruent_zscore.nii.gz,/media/Data/Documents/devel/nibetaseries_analysis/sub-14/func/sub-14_trialtype-congruent_zscore.nii.gz,/media/Data/Documents/devel/nibetaseries_analysis/sub-14/func/sub-14_trialtype-incongruent_zscore.nii.gz,/media/Data/Documents/devel/nibetaseries_analysis/sub-15/func/sub-15_trialtype-congruent_zscore.nii.gz,/media/Data/Documents/devel/nibetaseries_analysis/sub-15/func/sub-15_trialtype-incongruent_zscore.nii.gz,/media/Data/Documents/devel/nibetaseries_analysis/sub-16/func/sub-16_trialtype-congruent_zscore.nii.gz,/media/Data/Documents/devel/nibetaseries_analysis/sub-16/func/sub-16_trialtype-incongruent_zscore.nii.gz,/media/Data/Documents/devel/nibetaseries_analysis/sub-17/func/sub-17_trialtype-congruent_zscore.nii.gz,/media/Data/Documents/devel/nibetaseries_analysis/sub-17/func/sub-17_trialtype-incongruent_zscore.nii.gz,/media/Data/Documents/devel/nibetaseries_analysis/sub-18/func/sub-18_trialtype-congruent_zscore.nii.gz,/media/Data/Documents/devel/nibetaseries_analysis/sub-18/func/sub-18_trialtype-incongruent_zscore.nii.gz,/media/Data/Documents/devel/nibetaseries_analysis/sub-19/func/sub-19_trialtype-congruent_zscore.nii.gz,/media/Data/Documents/devel/nibetaseries_analysis/sub-19/func/sub-19_trialtype-incongruent_zscore.nii.gz,/media/Data/Documents/devel/nibetaseries_analysis/sub-20/func/sub-20_trialtype-congruent_zscore.nii.gz,/media/Data/Documents/devel/nibetaseries_analysis/sub-20/func/sub-20_trialtype-incongruent_zscore.nii.gz,/media/Data/Documents/devel/nibetaseries_analysis/sub-21/func/sub-21_trialtype-congruent_zscore.nii.gz,/media/Data/Documents/devel/nibetaseries_analysis/sub-22/func/sub-22_trialtype-congruent_zscore.nii.gz,/media/Data/Documents/devel/nibetaseries_analysis/sub-22/func/sub-22_trialtype-incongruent_zscore.nii.gz,/media/Data/Documents/devel/nibetaseries_analysis/sub-24/func/sub-24_trialtype-congruent_zscore.nii.gz,/media/Data/Documents/devel/nibetaseries_analysis/sub-24/func/sub-24_trialtype-incongruent_zscore.nii.gz,/media/Data/Documents/devel/nibetaseries_analysis/sub-25/func/sub-25_trialtype-congruent_zscore.nii.gz,/media/Data/Documents/devel/nibetaseries_analysis/sub-25/func/sub-25_trialtype-incongruent_zscore.nii.gz,/media/Data/Documents/devel/nibetaseries_analysis/sub-26/func/sub-26_trialtype-congruent_zscore.nii.gz,/media/Data/Documents/devel/nibetaseries_analysis/sub-26/func/sub-26_trialtype-incongruent_zscore.nii.gz -a tica -d 20 -m /media/Data/Documents/devel/nibetaseries_analysis/group/group_bold_brainmask.nii.gz --nobet -o /media/Data/Documents/devel/nibetaseries_analysis/code/.cache/groupICA.out --report.\n"
     ]
    },
    {
     "data": {
      "text/plain": [
       "<nipype.interfaces.base.InterfaceResult at 0x7f453dc64eb8>"
      ]
     },
     "execution_count": 63,
     "metadata": {},
     "output_type": "execute_result"
    }
   ],
   "source": [
    "melodic = Node(\n",
    "            MELODIC(\n",
    "                approach='tica',\n",
    "                in_files=arr[24],\n",
    "                dim=20,\n",
    "                no_bet=True,\n",
    "                mask=mask,\n",
    "                out_dir=os.path.abspath('.cache/groupICA.out'),\n",
    "                report=True),\n",
    "            name='melodic')\n",
    "melodic.run()"
   ]
  },
  {
   "cell_type": "code",
   "execution_count": 81,
   "metadata": {},
   "outputs": [
    {
     "data": {
      "text/plain": [
       "<nipype.interfaces.base.InterfaceResult at 0x7f453dd73588>"
      ]
     },
     "execution_count": 81,
     "metadata": {},
     "output_type": "execute_result"
    }
   ],
   "source": [
    "con_mean = ('overall_mean', 'T', ['congruent', 'incongruent'], [0.5, 0.5])\n",
    "con_conmean = ('congruent_mean', 'T', ['congruent', 'incongruent'], [1.0, 0.0])\n",
    "con_incmean = ('incongruent_mean', 'T', ['congruent', 'incongruent'], [0.0, 1.0])\n",
    "con_congtinc = ('con>inc', 'T', ['congruent', 'incongruent'], [1.0, -1.0])\n",
    "con_incgtcon = ('inc>con', 'T', ['congruent', 'incongruent'], [-1.0, 1.0])\n",
    "contrasts = [con_mean, con_conmean, con_incmean, con_congtinc, con_incgtcon]\n",
    "\n",
    "\n",
    "comp_con = re.compile('/media/Data/Documents/devel/nibetaseries_analysis/sub-[0-9]{2}/func/sub-[0-9]{2}_trialtype-congruent_zscore.nii.gz')\n",
    "comp_inc = re.compile('/media/Data/Documents/devel/nibetaseries_analysis/sub-[0-9]{2}/func/sub-[0-9]{2}_trialtype-incongruent_zscore.nii.gz')\n",
    "\n",
    "# congruent regressor\n",
    "regressors = {'congruent': [], 'incongruent': []}\n",
    "for fil in arr[24]:\n",
    "    regressors['congruent'].append(int(bool(re.match(comp_con, fil))))\n",
    "    regressors['incongruent'].append(int(bool(re.match(comp_inc, fil))))\n",
    "# design = Node(MultipleRegressDesign())\n",
    "# int(bool(re.match(comp_con, arr[24][1])))\n",
    "model = MultipleRegressDesign(contrasts=contrasts, regressors=regressors)\n"
   ]
  },
  {
   "cell_type": "code",
   "execution_count": 59,
   "metadata": {
    "collapsed": true
   },
   "outputs": [],
   "source": [
    "os.getcwd()\n",
    "os.chdir('/media/Data/Documents/devel/nibetaseries_analysis/code')"
   ]
  },
  {
   "cell_type": "code",
   "execution_count": 85,
   "metadata": {
    "scrolled": false
   },
   "outputs": [
    {
     "data": {
      "text/plain": [
       "'dual_regression ./.cache/groupICA.out/melodic_IC.nii.gz 1 design.mat design.con 500 ./.cache/dual_regression /media/Data/Documents/devel/nibetaseries_analysis/sub-01/func/sub-01_trialtype-congruent_zscore.nii.gz /media/Data/Documents/devel/nibetaseries_analysis/sub-01/func/sub-01_trialtype-incongruent_zscore.nii.gz /media/Data/Documents/devel/nibetaseries_analysis/sub-02/func/sub-02_trialtype-congruent_zscore.nii.gz /media/Data/Documents/devel/nibetaseries_analysis/sub-02/func/sub-02_trialtype-incongruent_zscore.nii.gz /media/Data/Documents/devel/nibetaseries_analysis/sub-03/func/sub-03_trialtype-congruent_zscore.nii.gz /media/Data/Documents/devel/nibetaseries_analysis/sub-03/func/sub-03_trialtype-incongruent_zscore.nii.gz /media/Data/Documents/devel/nibetaseries_analysis/sub-04/func/sub-04_trialtype-congruent_zscore.nii.gz /media/Data/Documents/devel/nibetaseries_analysis/sub-04/func/sub-04_trialtype-incongruent_zscore.nii.gz /media/Data/Documents/devel/nibetaseries_analysis/sub-05/func/sub-05_trialtype-congruent_zscore.nii.gz /media/Data/Documents/devel/nibetaseries_analysis/sub-05/func/sub-05_trialtype-incongruent_zscore.nii.gz /media/Data/Documents/devel/nibetaseries_analysis/sub-06/func/sub-06_trialtype-congruent_zscore.nii.gz /media/Data/Documents/devel/nibetaseries_analysis/sub-06/func/sub-06_trialtype-incongruent_zscore.nii.gz /media/Data/Documents/devel/nibetaseries_analysis/sub-07/func/sub-07_trialtype-congruent_zscore.nii.gz /media/Data/Documents/devel/nibetaseries_analysis/sub-07/func/sub-07_trialtype-incongruent_zscore.nii.gz /media/Data/Documents/devel/nibetaseries_analysis/sub-08/func/sub-08_trialtype-congruent_zscore.nii.gz /media/Data/Documents/devel/nibetaseries_analysis/sub-08/func/sub-08_trialtype-incongruent_zscore.nii.gz /media/Data/Documents/devel/nibetaseries_analysis/sub-09/func/sub-09_trialtype-congruent_zscore.nii.gz /media/Data/Documents/devel/nibetaseries_analysis/sub-09/func/sub-09_trialtype-incongruent_zscore.nii.gz /media/Data/Documents/devel/nibetaseries_analysis/sub-10/func/sub-10_trialtype-congruent_zscore.nii.gz /media/Data/Documents/devel/nibetaseries_analysis/sub-10/func/sub-10_trialtype-incongruent_zscore.nii.gz /media/Data/Documents/devel/nibetaseries_analysis/sub-11/func/sub-11_trialtype-congruent_zscore.nii.gz /media/Data/Documents/devel/nibetaseries_analysis/sub-12/func/sub-12_trialtype-congruent_zscore.nii.gz /media/Data/Documents/devel/nibetaseries_analysis/sub-12/func/sub-12_trialtype-incongruent_zscore.nii.gz /media/Data/Documents/devel/nibetaseries_analysis/sub-13/func/sub-13_trialtype-congruent_zscore.nii.gz /media/Data/Documents/devel/nibetaseries_analysis/sub-13/func/sub-13_trialtype-incongruent_zscore.nii.gz /media/Data/Documents/devel/nibetaseries_analysis/sub-14/func/sub-14_trialtype-congruent_zscore.nii.gz /media/Data/Documents/devel/nibetaseries_analysis/sub-14/func/sub-14_trialtype-incongruent_zscore.nii.gz /media/Data/Documents/devel/nibetaseries_analysis/sub-15/func/sub-15_trialtype-congruent_zscore.nii.gz /media/Data/Documents/devel/nibetaseries_analysis/sub-15/func/sub-15_trialtype-incongruent_zscore.nii.gz /media/Data/Documents/devel/nibetaseries_analysis/sub-16/func/sub-16_trialtype-congruent_zscore.nii.gz /media/Data/Documents/devel/nibetaseries_analysis/sub-16/func/sub-16_trialtype-incongruent_zscore.nii.gz /media/Data/Documents/devel/nibetaseries_analysis/sub-17/func/sub-17_trialtype-congruent_zscore.nii.gz /media/Data/Documents/devel/nibetaseries_analysis/sub-17/func/sub-17_trialtype-incongruent_zscore.nii.gz /media/Data/Documents/devel/nibetaseries_analysis/sub-18/func/sub-18_trialtype-congruent_zscore.nii.gz /media/Data/Documents/devel/nibetaseries_analysis/sub-18/func/sub-18_trialtype-incongruent_zscore.nii.gz /media/Data/Documents/devel/nibetaseries_analysis/sub-19/func/sub-19_trialtype-congruent_zscore.nii.gz /media/Data/Documents/devel/nibetaseries_analysis/sub-19/func/sub-19_trialtype-incongruent_zscore.nii.gz /media/Data/Documents/devel/nibetaseries_analysis/sub-20/func/sub-20_trialtype-congruent_zscore.nii.gz /media/Data/Documents/devel/nibetaseries_analysis/sub-20/func/sub-20_trialtype-incongruent_zscore.nii.gz /media/Data/Documents/devel/nibetaseries_analysis/sub-21/func/sub-21_trialtype-congruent_zscore.nii.gz /media/Data/Documents/devel/nibetaseries_analysis/sub-22/func/sub-22_trialtype-congruent_zscore.nii.gz /media/Data/Documents/devel/nibetaseries_analysis/sub-22/func/sub-22_trialtype-incongruent_zscore.nii.gz /media/Data/Documents/devel/nibetaseries_analysis/sub-24/func/sub-24_trialtype-congruent_zscore.nii.gz /media/Data/Documents/devel/nibetaseries_analysis/sub-24/func/sub-24_trialtype-incongruent_zscore.nii.gz /media/Data/Documents/devel/nibetaseries_analysis/sub-25/func/sub-25_trialtype-congruent_zscore.nii.gz /media/Data/Documents/devel/nibetaseries_analysis/sub-25/func/sub-25_trialtype-incongruent_zscore.nii.gz /media/Data/Documents/devel/nibetaseries_analysis/sub-26/func/sub-26_trialtype-congruent_zscore.nii.gz /media/Data/Documents/devel/nibetaseries_analysis/sub-26/func/sub-26_trialtype-incongruent_zscore.nii.gz'"
      ]
     },
     "execution_count": 85,
     "metadata": {},
     "output_type": "execute_result"
    }
   ],
   "source": [
    "dual_regression = DualRegression(in_files=arr[24],\n",
    "                                 group_IC_maps_4D='./.cache/groupICA.out/melodic_IC.nii.gz',\n",
    "                                 n_perm=500,\n",
    "                                 con_file='design.con',\n",
    "                                 design_file='design.mat',\n",
    "                                 out_dir='./.cache/dual_regression')\n",
    "cmd = dual_regression.cmdline"
   ]
  },
  {
   "cell_type": "code",
   "execution_count": 91,
   "metadata": {},
   "outputs": [
    {
     "name": "stdout",
     "output_type": "stream",
     "text": [
      "doing the dual regressions\n",
      "sorting maps and running randomise\n"
     ]
    },
    {
     "name": "stderr",
     "output_type": "stream",
     "text": [
      "/usr/share/fsl/5.0/bin/fsl_sub: 410: exit: Illegal number: -1\n",
      "/usr/share/fsl/5.0/bin/fsl_sub: 410: exit: Illegal number: -1\n"
     ]
    }
   ],
   "source": [
    "%%bash\n",
    "dual_regression /media/Data/Documents/devel/nibetaseries_analysis/code/.cache/groupICA.out/melodic_IC.nii.gz 1 design.mat design.con 500 /media/Data/Documents/devel/nibetaseries_analysis/group/group_bold_brainmask.nii.gz /media/Data/Documents/devel/nibetaseries_analysis/code/.cache/DualRegression /media/Data/Documents/devel/nibetaseries_analysis/sub-01/func/sub-01_trialtype-congruent_zscore.nii.gz /media/Data/Documents/devel/nibetaseries_analysis/sub-01/func/sub-01_trialtype-incongruent_zscore.nii.gz /media/Data/Documents/devel/nibetaseries_analysis/sub-02/func/sub-02_trialtype-congruent_zscore.nii.gz /media/Data/Documents/devel/nibetaseries_analysis/sub-02/func/sub-02_trialtype-incongruent_zscore.nii.gz /media/Data/Documents/devel/nibetaseries_analysis/sub-03/func/sub-03_trialtype-congruent_zscore.nii.gz /media/Data/Documents/devel/nibetaseries_analysis/sub-03/func/sub-03_trialtype-incongruent_zscore.nii.gz /media/Data/Documents/devel/nibetaseries_analysis/sub-04/func/sub-04_trialtype-congruent_zscore.nii.gz /media/Data/Documents/devel/nibetaseries_analysis/sub-04/func/sub-04_trialtype-incongruent_zscore.nii.gz /media/Data/Documents/devel/nibetaseries_analysis/sub-05/func/sub-05_trialtype-congruent_zscore.nii.gz /media/Data/Documents/devel/nibetaseries_analysis/sub-05/func/sub-05_trialtype-incongruent_zscore.nii.gz /media/Data/Documents/devel/nibetaseries_analysis/sub-06/func/sub-06_trialtype-congruent_zscore.nii.gz /media/Data/Documents/devel/nibetaseries_analysis/sub-06/func/sub-06_trialtype-incongruent_zscore.nii.gz /media/Data/Documents/devel/nibetaseries_analysis/sub-07/func/sub-07_trialtype-congruent_zscore.nii.gz /media/Data/Documents/devel/nibetaseries_analysis/sub-07/func/sub-07_trialtype-incongruent_zscore.nii.gz /media/Data/Documents/devel/nibetaseries_analysis/sub-08/func/sub-08_trialtype-congruent_zscore.nii.gz /media/Data/Documents/devel/nibetaseries_analysis/sub-08/func/sub-08_trialtype-incongruent_zscore.nii.gz /media/Data/Documents/devel/nibetaseries_analysis/sub-09/func/sub-09_trialtype-congruent_zscore.nii.gz /media/Data/Documents/devel/nibetaseries_analysis/sub-09/func/sub-09_trialtype-incongruent_zscore.nii.gz /media/Data/Documents/devel/nibetaseries_analysis/sub-10/func/sub-10_trialtype-congruent_zscore.nii.gz /media/Data/Documents/devel/nibetaseries_analysis/sub-10/func/sub-10_trialtype-incongruent_zscore.nii.gz /media/Data/Documents/devel/nibetaseries_analysis/sub-11/func/sub-11_trialtype-congruent_zscore.nii.gz /media/Data/Documents/devel/nibetaseries_analysis/sub-12/func/sub-12_trialtype-congruent_zscore.nii.gz /media/Data/Documents/devel/nibetaseries_analysis/sub-12/func/sub-12_trialtype-incongruent_zscore.nii.gz /media/Data/Documents/devel/nibetaseries_analysis/sub-13/func/sub-13_trialtype-congruent_zscore.nii.gz /media/Data/Documents/devel/nibetaseries_analysis/sub-13/func/sub-13_trialtype-incongruent_zscore.nii.gz /media/Data/Documents/devel/nibetaseries_analysis/sub-14/func/sub-14_trialtype-congruent_zscore.nii.gz /media/Data/Documents/devel/nibetaseries_analysis/sub-14/func/sub-14_trialtype-incongruent_zscore.nii.gz /media/Data/Documents/devel/nibetaseries_analysis/sub-15/func/sub-15_trialtype-congruent_zscore.nii.gz /media/Data/Documents/devel/nibetaseries_analysis/sub-15/func/sub-15_trialtype-incongruent_zscore.nii.gz /media/Data/Documents/devel/nibetaseries_analysis/sub-16/func/sub-16_trialtype-congruent_zscore.nii.gz /media/Data/Documents/devel/nibetaseries_analysis/sub-16/func/sub-16_trialtype-incongruent_zscore.nii.gz /media/Data/Documents/devel/nibetaseries_analysis/sub-17/func/sub-17_trialtype-congruent_zscore.nii.gz /media/Data/Documents/devel/nibetaseries_analysis/sub-17/func/sub-17_trialtype-incongruent_zscore.nii.gz /media/Data/Documents/devel/nibetaseries_analysis/sub-18/func/sub-18_trialtype-congruent_zscore.nii.gz /media/Data/Documents/devel/nibetaseries_analysis/sub-18/func/sub-18_trialtype-incongruent_zscore.nii.gz /media/Data/Documents/devel/nibetaseries_analysis/sub-19/func/sub-19_trialtype-congruent_zscore.nii.gz /media/Data/Documents/devel/nibetaseries_analysis/sub-19/func/sub-19_trialtype-incongruent_zscore.nii.gz /media/Data/Documents/devel/nibetaseries_analysis/sub-20/func/sub-20_trialtype-congruent_zscore.nii.gz /media/Data/Documents/devel/nibetaseries_analysis/sub-20/func/sub-20_trialtype-incongruent_zscore.nii.gz /media/Data/Documents/devel/nibetaseries_analysis/sub-21/func/sub-21_trialtype-congruent_zscore.nii.gz /media/Data/Documents/devel/nibetaseries_analysis/sub-22/func/sub-22_trialtype-congruent_zscore.nii.gz /media/Data/Documents/devel/nibetaseries_analysis/sub-22/func/sub-22_trialtype-incongruent_zscore.nii.gz /media/Data/Documents/devel/nibetaseries_analysis/sub-24/func/sub-24_trialtype-congruent_zscore.nii.gz /media/Data/Documents/devel/nibetaseries_analysis/sub-24/func/sub-24_trialtype-incongruent_zscore.nii.gz /media/Data/Documents/devel/nibetaseries_analysis/sub-25/func/sub-25_trialtype-congruent_zscore.nii.gz /media/Data/Documents/devel/nibetaseries_analysis/sub-25/func/sub-25_trialtype-incongruent_zscore.nii.gz /media/Data/Documents/devel/nibetaseries_analysis/sub-26/func/sub-26_trialtype-congruent_zscore.nii.gz /media/Data/Documents/devel/nibetaseries_analysis/sub-26/func/sub-26_trialtype-incongruent_zscore.nii.gz"
   ]
  },
  {
   "cell_type": "markdown",
   "metadata": {},
   "source": [
    "had to edit dual_regression to this so I could add my own mask\n",
    "\n",
    "```bash\n",
    "#!/bin/sh\n",
    "\n",
    "#   dual_regression - take group-ICA maps (etc) and get subject-specific versions of them (and associated timecourses)\n",
    "#\n",
    "#   Stephen Smith and Christian Beckmann, FMRIB Image Analysis Group\n",
    "#\n",
    "#   Copyright (C) 2011-2012 University of Oxford\n",
    "#\n",
    "#   Part of FSL - FMRIB's Software Library\n",
    "#   http://www.fmrib.ox.ac.uk/fsl\n",
    "#   fsl@fmrib.ox.ac.uk\n",
    "#\n",
    "#   Developed at FMRIB (Oxford Centre for Functional Magnetic Resonance\n",
    "#   Imaging of the Brain), Department of Clinical Neurology, Oxford\n",
    "#   University, Oxford, UK\n",
    "#\n",
    "#\n",
    "#   LICENCE\n",
    "#\n",
    "#   FMRIB Software Library, Release 5.0 (c) 2012, The University of\n",
    "#   Oxford (the \"Software\")\n",
    "#\n",
    "#   The Software remains the property of the University of Oxford (\"the\n",
    "#   University\").\n",
    "#\n",
    "#   The Software is distributed \"AS IS\" under this Licence solely for\n",
    "#   non-commercial use in the hope that it will be useful, but in order\n",
    "#   that the University as a charitable foundation protects its assets for\n",
    "#   the benefit of its educational and research purposes, the University\n",
    "#   makes clear that no condition is made or to be implied, nor is any\n",
    "#   warranty given or to be implied, as to the accuracy of the Software,\n",
    "#   or that it will be suitable for any particular purpose or for use\n",
    "#   under any specific conditions. Furthermore, the University disclaims\n",
    "#   all responsibility for the use which is made of the Software. It\n",
    "#   further disclaims any liability for the outcomes arising from using\n",
    "#   the Software.\n",
    "#\n",
    "#   The Licensee agrees to indemnify the University and hold the\n",
    "#   University harmless from and against any and all claims, damages and\n",
    "#   liabilities asserted by third parties (including claims for\n",
    "#   negligence) which arise directly or indirectly from the use of the\n",
    "#   Software or the sale of any products based on the Software.\n",
    "#\n",
    "#   No part of the Software may be reproduced, modified, transmitted or\n",
    "#   transferred in any form or by any means, electronic or mechanical,\n",
    "#   without the express permission of the University. The permission of\n",
    "#   the University is not required if the said reproduction, modification,\n",
    "#   transmission or transference is done without financial return, the\n",
    "#   conditions of this Licence are imposed upon the receiver of the\n",
    "#   product, and all original and amended source code is included in any\n",
    "#   transmitted product. You may be held legally responsible for any\n",
    "#   copyright infringement that is caused or encouraged by your failure to\n",
    "#   abide by these terms and conditions.\n",
    "#\n",
    "#   You are not permitted under this Licence to use this Software\n",
    "#   commercially. Use for which any financial return is received shall be\n",
    "#   defined as commercial use, and includes (1) integration of all or part\n",
    "#   of the source code or the Software into a product for sale or license\n",
    "#   by or on behalf of Licensee to third parties or (2) use of the\n",
    "#   Software or any derivative of it for research with the final aim of\n",
    "#   developing software products for sale or license to a third party or\n",
    "#   (3) use of the Software or any derivative of it for research with the\n",
    "#   final aim of developing non-software products for sale or license to a\n",
    "#   third party, or (4) use of the Software to provide any service to an\n",
    "#   external organisation for which payment is received. If you are\n",
    "#   interested in using the Software commercially, please contact Isis\n",
    "#   Innovation Limited (\"Isis\"), the technology transfer company of the\n",
    "#   University, to negotiate a licence. Contact details are:\n",
    "#   innovation@isis.ox.ac.uk quoting reference DE/9564.\n",
    "export LC_ALL=C\n",
    "\n",
    "\n",
    "Usage() {\n",
    "    cat <<EOF\n",
    "\n",
    "dual_regression v0.5 (beta)\n",
    "\n",
    "***NOTE*** ORDER OF COMMAND-LINE ARGUMENTS IS DIFFERENT FROM PREVIOUS VERSION\n",
    "\n",
    "Usage: dual_regression <group_IC_maps> <des_norm> <design.mat> <design.con> <n_perm> <output_directory> <input1> <input2> <input3> .........\n",
    "e.g.   dual_regression groupICA.gica/groupmelodic.ica/melodic_IC 1 design.mat design.con 500 grot \\`cat groupICA.gica/.filelist\\`\n",
    "\n",
    "<group_IC_maps_4D>            4D image containing spatial IC maps (melodic_IC) from the whole-group ICA analysis\n",
    "<des_norm>                    0 or 1 (1 is recommended). Whether to variance-normalise the timecourses used as the stage-2 regressors\n",
    "<design.mat>                  Design matrix for final cross-subject modelling with randomise\n",
    "<design.con>                  Design contrasts for final cross-subject modelling with randomise\n",
    "<n_perm>                      Number of permutations for randomise; set to 1 for just raw tstat output, set to 0 to not run randomise at all.\n",
    "<output_directory>            This directory will be created to hold all output and logfiles\n",
    "<input1> <input2> ...         List all subjects' preprocessed, standard-space 4D datasets\n",
    "\n",
    "<design.mat> <design.con>     can be replaced with just\n",
    "-1                            for group-mean (one-group t-test) modelling.\n",
    "If you need to add other randomise options then edit the line after \"EDIT HERE\" in the dual_regression script\n",
    "\n",
    "EOF\n",
    "    exit 1\n",
    "}\n",
    "\n",
    "############################################################################\n",
    "\n",
    "[ \"$6\" = \"\" ] && Usage\n",
    "\n",
    "ORIG_COMMAND=$*\n",
    "\n",
    "ICA_MAPS=`${FSLDIR}/bin/remove_ext $1` ; shift\n",
    "\n",
    "DES_NORM=--des_norm\n",
    "if [ $1 = 0 ] ; then\n",
    "  DES_NORM=\"\"\n",
    "fi ; shift\n",
    "\n",
    "if [ $1 = \"-1\" ] ; then\n",
    "  DESIGN=\"-1\"\n",
    "  shift\n",
    "else\n",
    "  dm=$1\n",
    "  dc=$2\n",
    "  DESIGN=\"-d $1 -t $2\"\n",
    "  shift 2\n",
    "fi\n",
    "\n",
    "NPERM=$1 ; shift\n",
    "\n",
    "MASK=$1 ; shift\n",
    "\n",
    "OUTPUT=`${FSLDIR}/bin/remove_ext $1` ; shift\n",
    "\n",
    "while [ _$1 != _ ] ; do\n",
    "  INPUTS=\"$INPUTS `${FSLDIR}/bin/remove_ext $1`\"\n",
    "  shift\n",
    "done\n",
    "\n",
    "############################################################################\n",
    "\n",
    "mkdir $OUTPUT\n",
    "LOGDIR=${OUTPUT}/scripts+logs\n",
    "mkdir $LOGDIR\n",
    "echo $ORIG_COMMAND > $LOGDIR/command\n",
    "if [ \"$DESIGN\" != -1 ] ; then\n",
    "  /bin/cp $dm $OUTPUT/design.mat\n",
    "  /bin/cp $dc $OUTPUT/design.con\n",
    "fi\n",
    "\n",
    "# echo \"creating common mask\"\n",
    "# j=0\n",
    "# for i in $INPUTS ; do\n",
    "#   echo \"$FSLDIR/bin/fslmaths $i -Tstd -bin ${OUTPUT}/mask_`${FSLDIR}/bin/zeropad $j 5` -odt char\" >> ${LOGDIR}/drA\n",
    "#   j=`echo \"$j 1 + p\" | dc -`\n",
    "# done\n",
    "# ID_drA=`$FSLDIR/bin/fsl_sub -T 10 -N drA -l $LOGDIR -t ${LOGDIR}/drA`\n",
    "# cat <<EOF > ${LOGDIR}/drB\n",
    "# #!/bin/sh\n",
    "# \\$FSLDIR/bin/fslmerge -t ${OUTPUT}/maskALL \\`\\$FSLDIR/bin/imglob ${OUTPUT}/mask_*\\`\n",
    "# \\$FSLDIR/bin/fslmaths $OUTPUT/maskALL -Tmin $OUTPUT/mask\n",
    "# \\$FSLDIR/bin/imrm $OUTPUT/mask_*\n",
    "# EOF\n",
    "# chmod a+x ${LOGDIR}/drB\n",
    "# ID_drB=`$FSLDIR/bin/fsl_sub -j $ID_drA -T 5 -N drB -l $LOGDIR ${LOGDIR}/drB`\n",
    "\n",
    "echo \"doing the dual regressions\"\n",
    "j=0\n",
    "for i in $INPUTS ; do\n",
    "  s=subject`${FSLDIR}/bin/zeropad $j 5`\n",
    "  echo \"$FSLDIR/bin/fsl_glm -i $i -d $ICA_MAPS -o $OUTPUT/dr_stage1_${s}.txt --demean -m $MASK ; \\\n",
    "        $FSLDIR/bin/fsl_glm -i $i -d $OUTPUT/dr_stage1_${s}.txt -o $OUTPUT/dr_stage2_$s --out_z=$OUTPUT/dr_stage2_${s}_Z --demean -m ${MASK} $DES_NORM ; \\\n",
    "        $FSLDIR/bin/fslsplit $OUTPUT/dr_stage2_$s $OUTPUT/dr_stage2_${s}_ic\" >> ${LOGDIR}/drC\n",
    "  j=`echo \"$j 1 + p\" | dc -`\n",
    "done\n",
    "ID_drC=`$FSLDIR/bin/fsl_sub -j $ID_drB -T 30 -N drC -l $LOGDIR -t ${LOGDIR}/drC`\n",
    "\n",
    "echo \"sorting maps and running randomise\"\n",
    "j=0\n",
    "Nics=`$FSLDIR/bin/fslnvols $ICA_MAPS`\n",
    "while [ $j -lt $Nics ] ; do\n",
    "  jj=`$FSLDIR/bin/zeropad $j 4`\n",
    "\n",
    "  RAND=\"\"\n",
    "  if [ $NPERM -eq 1 ] ; then\n",
    "    RAND=\"$FSLDIR/bin/randomise -i $OUTPUT/dr_stage2_ic$jj -o $OUTPUT/dr_stage3_ic$jj -m $MASK $DESIGN -n 1 -V -R\"\n",
    "  fi\n",
    "  if [ $NPERM -gt 1 ] ; then\n",
    "    # EDIT HERE\n",
    "    RAND=\"$FSLDIR/bin/randomise -i $OUTPUT/dr_stage2_ic$jj -o $OUTPUT/dr_stage3_ic$jj -m $MASK $DESIGN -n $NPERM -T -V\"\n",
    "  fi\n",
    "\n",
    "  echo \"$FSLDIR/bin/fslmerge -t $OUTPUT/dr_stage2_ic$jj \\`\\$FSLDIR/bin/imglob $OUTPUT/dr_stage2_subject*_ic${jj}.*\\` ; \\\n",
    "        $FSLDIR/bin/imrm \\`\\$FSLDIR/bin/imglob $OUTPUT/dr_stage2_subject*_ic${jj}.*\\` ; $RAND\" >> ${LOGDIR}/drD\n",
    "  j=`echo \"$j 1 + p\" | dc -`\n",
    "done\n",
    "ID_drD=`$FSLDIR/bin/fsl_sub -j $ID_drC -T 60 -N drD -l $LOGDIR -t ${LOGDIR}/drD`\n",
    "```\n",
    "for it to almost work (had to add python2 to imglob since i use python3 by default\n",
    "\n"
   ]
  },
  {
   "cell_type": "markdown",
   "metadata": {},
   "source": [
    "## results\n",
    "\n",
    "ic0010 is the fronto-parietal network, this is only a little significant in a couple voxels, but it's in support of the hypothesis :\n",
    "\n",
    "\"differences in between the congruent and incongruent conditions should be seen in the fronto-parietal network using betaseries\"\n",
    "\n",
    "In this instance the direction of the result is greater \"network activation?\" of the incongruent condition over the congruent condition. None of the other components (19) in the dual regression model reached significance with randomise, this provide tentative evidence of the betaseries method being useful in the context of differentiating conditions in a cognitive control task. Specifically, betaseries may capture the differences between network activation in relevant (the manipulated) networks in the task.\n",
    "dr_stage3_ic0010_tfce_corrp_tstat5.nii.gz\n",
    "0.000000 0.988000 (the significant voxels were near the left? parietal region)"
   ]
  },
  {
   "cell_type": "code",
   "execution_count": null,
   "metadata": {
    "collapsed": true
   },
   "outputs": [],
   "source": []
  }
 ],
 "metadata": {
  "kernelspec": {
   "display_name": "Python 3",
   "language": "python",
   "name": "python3"
  },
  "language_info": {
   "codemirror_mode": {
    "name": "ipython",
    "version": 3
   },
   "file_extension": ".py",
   "mimetype": "text/x-python",
   "name": "python",
   "nbconvert_exporter": "python",
   "pygments_lexer": "ipython3",
   "version": "3.6.1"
  }
 },
 "nbformat": 4,
 "nbformat_minor": 2
}
