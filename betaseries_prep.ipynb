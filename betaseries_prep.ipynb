{
 "cells": [
  {
   "cell_type": "markdown",
   "metadata": {},
   "source": [
    "# OpenFMRIFlanker normalize data"
   ]
  },
  {
   "cell_type": "markdown",
   "metadata": {},
   "source": [
    "This notebook pulls data from fmriprep and nibetaseries to do some preprocessing"
   ]
  },
  {
   "cell_type": "code",
   "execution_count": 46,
   "metadata": {
    "collapsed": true
   },
   "outputs": [],
   "source": [
    "# grabs files based on globbing\n",
    "from glob import glob\n",
    "# load nifti files as a python object\n",
    "import nibabel as nib\n",
    "# represent data as arrays (faster manipulation and smarter indexing)\n",
    "import numpy as np\n",
    "# complete basic statistical operations on numpy arrays\n",
    "from scipy import stats"
   ]
  },
  {
   "cell_type": "code",
   "execution_count": 161,
   "metadata": {
    "collapsed": true
   },
   "outputs": [],
   "source": [
    "# the mask for all files\n",
    "mask = '../group/group_bold_brainmask.nii.gz'\n",
    "# the betaseries files\n",
    "files = glob('../sub-*/func/sub-*_trialtype-*_betaseries.nii.gz')"
   ]
  },
  {
   "cell_type": "markdown",
   "metadata": {},
   "source": [
    "### zscoring commands\n",
    "the below commands load in the nifti images and perform zscoring along the 4th dimension."
   ]
  },
  {
   "cell_type": "code",
   "execution_count": 162,
   "metadata": {
    "collapsed": true
   },
   "outputs": [],
   "source": [
    "for file in files:\n",
    "    # load nifti\n",
    "    orig_img = nib.load(file)\n",
    "\n",
    "    # load img object into numpy array\n",
    "    orig_data_4d = orig_img.get_data()\n",
    "\n",
    "    # get the number of volumes (assuming 4d)\n",
    "    num_vols = orig_data_4d.shape[-1]\n",
    "\n",
    "    # load nifti\n",
    "    mask_img = nib.load(mask)\n",
    "\n",
    "    # load img into 3d numpy array\n",
    "    mask_data = mask_img.get_data()\n",
    "\n",
    "    # treat the array as boolean (T & F)\n",
    "    mask_data = mask_data.astype(bool)\n",
    "\n",
    "    # mask the data to only indices we want\n",
    "    masked_data_2d = orig_data_4d[mask_data]\n",
    "\n",
    "    # zscore the masked data across time (not space)\n",
    "    zscore_data_2d = stats.zscore(masked_data_2d, axis=1)\n",
    "\n",
    "    # set up output array\n",
    "    zscore_data_4d = np.zeros(orig_data_4d.shape, dtype=orig_data_4d.dtype)\n",
    "\n",
    "    # set the output data\n",
    "    zscore_data_4d[mask_data] = zscore_data_2d\n",
    "\n",
    "    # set headers from original image\n",
    "    img_header = orig_img.header\n",
    "    img_affine = orig_img.affine\n",
    "\n",
    "    # zscored nibabel img\n",
    "    zscore_img = nib.Nifti1Image(zscore_data_4d, img_affine, img_header)\n",
    "\n",
    "    # save file to correct place\n",
    "    zscore_img.to_filename(file.replace('betaseries','zscore'))"
   ]
  }
 ],
 "metadata": {
  "kernelspec": {
   "display_name": "Python 3",
   "language": "python",
   "name": "python3"
  },
  "language_info": {
   "codemirror_mode": {
    "name": "ipython",
    "version": 3
   },
   "file_extension": ".py",
   "mimetype": "text/x-python",
   "name": "python",
   "nbconvert_exporter": "python",
   "pygments_lexer": "ipython3",
   "version": "3.6.1"
  }
 },
 "nbformat": 4,
 "nbformat_minor": 2
}
